{
 "metadata": {
  "language_info": {
   "codemirror_mode": {
    "name": "ipython",
    "version": 3
   },
   "file_extension": ".py",
   "mimetype": "text/x-python",
   "name": "python",
   "nbconvert_exporter": "python",
   "pygments_lexer": "ipython3",
   "version": "3.6.10"
  },
  "orig_nbformat": 2,
  "kernelspec": {
   "name": "python3610jvsc74a57bd0735faef179f5cb085525f3faaa83caf951f2a05dfe70ead795f24f805eb4c248",
   "display_name": "Python 3.6.10 64-bit ('py36': conda)"
  }
 },
 "nbformat": 4,
 "nbformat_minor": 2,
 "cells": [
  {
   "cell_type": "code",
   "execution_count": 8,
   "metadata": {},
   "outputs": [],
   "source": [
    "import pandas as pd\n",
    "\n",
    "%matplotlib inline\n",
    "\n",
    "import matplotlib.pyplot as plt\n",
    "import seaborn as sb\n",
    "import numpy as np\n",
    "from sklearn.neural_network import MLPClassifier"
   ]
  },
  {
   "cell_type": "code",
   "execution_count": 2,
   "metadata": {},
   "outputs": [],
   "source": [
    "df = pd.read_csv('large_data.csv')\n",
    "df['TYPE'] = df['TYPE'].astype('category')"
   ]
  },
  {
   "cell_type": "code",
   "execution_count": 3,
   "metadata": {},
   "outputs": [],
   "source": [
    "input_names = list(df.columns)\n",
    "input_names.remove('TYPE')\n",
    "\n",
    "all_inputs = df[input_names].values\n",
    "all_labels = df['TYPE'].values"
   ]
  },
  {
   "cell_type": "code",
   "execution_count": 4,
   "metadata": {},
   "outputs": [],
   "source": [
    "from sklearn.model_selection import train_test_split\n",
    "\n",
    "(training_inputs,\n",
    " testing_inputs,\n",
    " training_classes,\n",
    " testing_classes) = train_test_split(all_inputs, all_labels, test_size=0.25, random_state=1)"
   ]
  },
  {
   "cell_type": "code",
   "execution_count": 5,
   "metadata": {},
   "outputs": [],
   "source": [
    "from sklearn.preprocessing import StandardScaler  \n",
    "\n",
    "scaler = StandardScaler()\n",
    "scaler.fit(training_inputs)\n",
    "training_inputs = scaler.transform(training_inputs)\n",
    "testing_inputs = scaler.transform(testing_inputs)  "
   ]
  },
  {
   "cell_type": "code",
   "execution_count": 6,
   "metadata": {},
   "outputs": [
    {
     "output_type": "execute_result",
     "data": {
      "text/plain": [
       "0.9107432067662408"
      ]
     },
     "metadata": {},
     "execution_count": 6
    }
   ],
   "source": [
    "# Create the classifier\n",
    "clf = MLPClassifier()\n",
    "\n",
    "# Train the classifier on the training set\n",
    "clf.fit(training_inputs, training_classes)\n",
    "\n",
    "# Validate the classifier on the testing set using classification accuracy\n",
    "clf.score(testing_inputs, testing_classes)"
   ]
  },
  {
   "cell_type": "code",
   "execution_count": 14,
   "metadata": {},
   "outputs": [
    {
     "output_type": "execute_result",
     "data": {
      "text/plain": [
       "Text(0.5, 1.0, 'Average score: 0.9231993925860481')"
      ]
     },
     "metadata": {},
     "execution_count": 14
    },
    {
     "output_type": "display_data",
     "data": {
      "text/plain": "<Figure size 432x288 with 1 Axes>",
      "image/svg+xml": "<?xml version=\"1.0\" encoding=\"utf-8\" standalone=\"no\"?>\r\n<!DOCTYPE svg PUBLIC \"-//W3C//DTD SVG 1.1//EN\"\r\n  \"http://www.w3.org/Graphics/SVG/1.1/DTD/svg11.dtd\">\r\n<!-- Created with matplotlib (https://matplotlib.org/) -->\r\n<svg height=\"263.63625pt\" version=\"1.1\" viewBox=\"0 0 387.015225 263.63625\" width=\"387.015225pt\" xmlns=\"http://www.w3.org/2000/svg\" xmlns:xlink=\"http://www.w3.org/1999/xlink\">\r\n <defs>\r\n  <style type=\"text/css\">\r\n*{stroke-linecap:butt;stroke-linejoin:round;}\r\n  </style>\r\n </defs>\r\n <g id=\"figure_1\">\r\n  <g id=\"patch_1\">\r\n   <path d=\"M 0 263.63625 \r\nL 387.015225 263.63625 \r\nL 387.015225 0 \r\nL 0 0 \r\nz\r\n\" style=\"fill:none;\"/>\r\n  </g>\r\n  <g id=\"axes_1\">\r\n   <g id=\"patch_2\">\r\n    <path d=\"M 36.465625 239.758125 \r\nL 371.265625 239.758125 \r\nL 371.265625 22.318125 \r\nL 36.465625 22.318125 \r\nz\r\n\" style=\"fill:#ffffff;\"/>\r\n   </g>\r\n   <g id=\"patch_3\">\r\n    <path clip-path=\"url(#pa8339fa7e8)\" d=\"M 51.683807 239.758125 \r\nL 82.12017 239.758125 \r\nL 82.12017 136.215268 \r\nL 51.683807 136.215268 \r\nz\r\n\" style=\"fill:#1f77b4;\"/>\r\n   </g>\r\n   <g id=\"patch_4\">\r\n    <path clip-path=\"url(#pa8339fa7e8)\" d=\"M 82.12017 239.758125 \r\nL 112.556534 239.758125 \r\nL 112.556534 32.672411 \r\nL 82.12017 32.672411 \r\nz\r\n\" style=\"fill:#1f77b4;\"/>\r\n   </g>\r\n   <g id=\"patch_5\">\r\n    <path clip-path=\"url(#pa8339fa7e8)\" d=\"M 112.556534 239.758125 \r\nL 142.992898 239.758125 \r\nL 142.992898 136.215268 \r\nL 112.556534 136.215268 \r\nz\r\n\" style=\"fill:#1f77b4;\"/>\r\n   </g>\r\n   <g id=\"patch_6\">\r\n    <path clip-path=\"url(#pa8339fa7e8)\" d=\"M 142.992898 239.758125 \r\nL 173.429261 239.758125 \r\nL 173.429261 239.758125 \r\nL 142.992898 239.758125 \r\nz\r\n\" style=\"fill:#1f77b4;\"/>\r\n   </g>\r\n   <g id=\"patch_7\">\r\n    <path clip-path=\"url(#pa8339fa7e8)\" d=\"M 173.429261 239.758125 \r\nL 203.865625 239.758125 \r\nL 203.865625 239.758125 \r\nL 173.429261 239.758125 \r\nz\r\n\" style=\"fill:#1f77b4;\"/>\r\n   </g>\r\n   <g id=\"patch_8\">\r\n    <path clip-path=\"url(#pa8339fa7e8)\" d=\"M 203.865625 239.758125 \r\nL 234.301989 239.758125 \r\nL 234.301989 136.215268 \r\nL 203.865625 136.215268 \r\nz\r\n\" style=\"fill:#1f77b4;\"/>\r\n   </g>\r\n   <g id=\"patch_9\">\r\n    <path clip-path=\"url(#pa8339fa7e8)\" d=\"M 234.301989 239.758125 \r\nL 264.738352 239.758125 \r\nL 264.738352 32.672411 \r\nL 234.301989 32.672411 \r\nz\r\n\" style=\"fill:#1f77b4;\"/>\r\n   </g>\r\n   <g id=\"patch_10\">\r\n    <path clip-path=\"url(#pa8339fa7e8)\" d=\"M 264.738352 239.758125 \r\nL 295.174716 239.758125 \r\nL 295.174716 136.215268 \r\nL 264.738352 136.215268 \r\nz\r\n\" style=\"fill:#1f77b4;\"/>\r\n   </g>\r\n   <g id=\"patch_11\">\r\n    <path clip-path=\"url(#pa8339fa7e8)\" d=\"M 295.174716 239.758125 \r\nL 325.61108 239.758125 \r\nL 325.61108 136.215268 \r\nL 295.174716 136.215268 \r\nz\r\n\" style=\"fill:#1f77b4;\"/>\r\n   </g>\r\n   <g id=\"patch_12\">\r\n    <path clip-path=\"url(#pa8339fa7e8)\" d=\"M 325.61108 239.758125 \r\nL 356.047443 239.758125 \r\nL 356.047443 136.215268 \r\nL 325.61108 136.215268 \r\nz\r\n\" style=\"fill:#1f77b4;\"/>\r\n   </g>\r\n   <g id=\"matplotlib.axis_1\">\r\n    <g id=\"xtick_1\">\r\n     <g id=\"line2d_1\">\r\n      <defs>\r\n       <path d=\"M 0 0 \r\nL 0 3.5 \r\n\" id=\"mc15e874ed0\" style=\"stroke:#000000;stroke-width:0.8;\"/>\r\n      </defs>\r\n      <g>\r\n       <use style=\"stroke:#000000;stroke-width:0.8;\" x=\"92.188765\" xlink:href=\"#mc15e874ed0\" y=\"239.758125\"/>\r\n      </g>\r\n     </g>\r\n     <g id=\"text_1\">\r\n      <!-- 0.915 -->\r\n      <defs>\r\n       <path d=\"M 31.78125 66.40625 \r\nQ 24.171875 66.40625 20.328125 58.90625 \r\nQ 16.5 51.421875 16.5 36.375 \r\nQ 16.5 21.390625 20.328125 13.890625 \r\nQ 24.171875 6.390625 31.78125 6.390625 \r\nQ 39.453125 6.390625 43.28125 13.890625 \r\nQ 47.125 21.390625 47.125 36.375 \r\nQ 47.125 51.421875 43.28125 58.90625 \r\nQ 39.453125 66.40625 31.78125 66.40625 \r\nz\r\nM 31.78125 74.21875 \r\nQ 44.046875 74.21875 50.515625 64.515625 \r\nQ 56.984375 54.828125 56.984375 36.375 \r\nQ 56.984375 17.96875 50.515625 8.265625 \r\nQ 44.046875 -1.421875 31.78125 -1.421875 \r\nQ 19.53125 -1.421875 13.0625 8.265625 \r\nQ 6.59375 17.96875 6.59375 36.375 \r\nQ 6.59375 54.828125 13.0625 64.515625 \r\nQ 19.53125 74.21875 31.78125 74.21875 \r\nz\r\n\" id=\"DejaVuSans-48\"/>\r\n       <path d=\"M 10.6875 12.40625 \r\nL 21 12.40625 \r\nL 21 0 \r\nL 10.6875 0 \r\nz\r\n\" id=\"DejaVuSans-46\"/>\r\n       <path d=\"M 10.984375 1.515625 \r\nL 10.984375 10.5 \r\nQ 14.703125 8.734375 18.5 7.8125 \r\nQ 22.3125 6.890625 25.984375 6.890625 \r\nQ 35.75 6.890625 40.890625 13.453125 \r\nQ 46.046875 20.015625 46.78125 33.40625 \r\nQ 43.953125 29.203125 39.59375 26.953125 \r\nQ 35.25 24.703125 29.984375 24.703125 \r\nQ 19.046875 24.703125 12.671875 31.3125 \r\nQ 6.296875 37.9375 6.296875 49.421875 \r\nQ 6.296875 60.640625 12.9375 67.421875 \r\nQ 19.578125 74.21875 30.609375 74.21875 \r\nQ 43.265625 74.21875 49.921875 64.515625 \r\nQ 56.59375 54.828125 56.59375 36.375 \r\nQ 56.59375 19.140625 48.40625 8.859375 \r\nQ 40.234375 -1.421875 26.421875 -1.421875 \r\nQ 22.703125 -1.421875 18.890625 -0.6875 \r\nQ 15.09375 0.046875 10.984375 1.515625 \r\nz\r\nM 30.609375 32.421875 \r\nQ 37.25 32.421875 41.125 36.953125 \r\nQ 45.015625 41.5 45.015625 49.421875 \r\nQ 45.015625 57.28125 41.125 61.84375 \r\nQ 37.25 66.40625 30.609375 66.40625 \r\nQ 23.96875 66.40625 20.09375 61.84375 \r\nQ 16.21875 57.28125 16.21875 49.421875 \r\nQ 16.21875 41.5 20.09375 36.953125 \r\nQ 23.96875 32.421875 30.609375 32.421875 \r\nz\r\n\" id=\"DejaVuSans-57\"/>\r\n       <path d=\"M 12.40625 8.296875 \r\nL 28.515625 8.296875 \r\nL 28.515625 63.921875 \r\nL 10.984375 60.40625 \r\nL 10.984375 69.390625 \r\nL 28.421875 72.90625 \r\nL 38.28125 72.90625 \r\nL 38.28125 8.296875 \r\nL 54.390625 8.296875 \r\nL 54.390625 0 \r\nL 12.40625 0 \r\nz\r\n\" id=\"DejaVuSans-49\"/>\r\n       <path d=\"M 10.796875 72.90625 \r\nL 49.515625 72.90625 \r\nL 49.515625 64.59375 \r\nL 19.828125 64.59375 \r\nL 19.828125 46.734375 \r\nQ 21.96875 47.46875 24.109375 47.828125 \r\nQ 26.265625 48.1875 28.421875 48.1875 \r\nQ 40.625 48.1875 47.75 41.5 \r\nQ 54.890625 34.8125 54.890625 23.390625 \r\nQ 54.890625 11.625 47.5625 5.09375 \r\nQ 40.234375 -1.421875 26.90625 -1.421875 \r\nQ 22.3125 -1.421875 17.546875 -0.640625 \r\nQ 12.796875 0.140625 7.71875 1.703125 \r\nL 7.71875 11.625 \r\nQ 12.109375 9.234375 16.796875 8.0625 \r\nQ 21.484375 6.890625 26.703125 6.890625 \r\nQ 35.15625 6.890625 40.078125 11.328125 \r\nQ 45.015625 15.765625 45.015625 23.390625 \r\nQ 45.015625 31 40.078125 35.4375 \r\nQ 35.15625 39.890625 26.703125 39.890625 \r\nQ 22.75 39.890625 18.8125 39.015625 \r\nQ 14.890625 38.140625 10.796875 36.28125 \r\nz\r\n\" id=\"DejaVuSans-53\"/>\r\n      </defs>\r\n      <g transform=\"translate(77.874703 254.356563)scale(0.1 -0.1)\">\r\n       <use xlink:href=\"#DejaVuSans-48\"/>\r\n       <use x=\"63.623047\" xlink:href=\"#DejaVuSans-46\"/>\r\n       <use x=\"95.410156\" xlink:href=\"#DejaVuSans-57\"/>\r\n       <use x=\"159.033203\" xlink:href=\"#DejaVuSans-49\"/>\r\n       <use x=\"222.65625\" xlink:href=\"#DejaVuSans-53\"/>\r\n      </g>\r\n     </g>\r\n    </g>\r\n    <g id=\"xtick_2\">\r\n     <g id=\"line2d_2\">\r\n      <g>\r\n       <use style=\"stroke:#000000;stroke-width:0.8;\" x=\"160.516865\" xlink:href=\"#mc15e874ed0\" y=\"239.758125\"/>\r\n      </g>\r\n     </g>\r\n     <g id=\"text_2\">\r\n      <!-- 0.920 -->\r\n      <defs>\r\n       <path d=\"M 19.1875 8.296875 \r\nL 53.609375 8.296875 \r\nL 53.609375 0 \r\nL 7.328125 0 \r\nL 7.328125 8.296875 \r\nQ 12.9375 14.109375 22.625 23.890625 \r\nQ 32.328125 33.6875 34.8125 36.53125 \r\nQ 39.546875 41.84375 41.421875 45.53125 \r\nQ 43.3125 49.21875 43.3125 52.78125 \r\nQ 43.3125 58.59375 39.234375 62.25 \r\nQ 35.15625 65.921875 28.609375 65.921875 \r\nQ 23.96875 65.921875 18.8125 64.3125 \r\nQ 13.671875 62.703125 7.8125 59.421875 \r\nL 7.8125 69.390625 \r\nQ 13.765625 71.78125 18.9375 73 \r\nQ 24.125 74.21875 28.421875 74.21875 \r\nQ 39.75 74.21875 46.484375 68.546875 \r\nQ 53.21875 62.890625 53.21875 53.421875 \r\nQ 53.21875 48.921875 51.53125 44.890625 \r\nQ 49.859375 40.875 45.40625 35.40625 \r\nQ 44.1875 33.984375 37.640625 27.21875 \r\nQ 31.109375 20.453125 19.1875 8.296875 \r\nz\r\n\" id=\"DejaVuSans-50\"/>\r\n      </defs>\r\n      <g transform=\"translate(146.202802 254.356563)scale(0.1 -0.1)\">\r\n       <use xlink:href=\"#DejaVuSans-48\"/>\r\n       <use x=\"63.623047\" xlink:href=\"#DejaVuSans-46\"/>\r\n       <use x=\"95.410156\" xlink:href=\"#DejaVuSans-57\"/>\r\n       <use x=\"159.033203\" xlink:href=\"#DejaVuSans-50\"/>\r\n       <use x=\"222.65625\" xlink:href=\"#DejaVuSans-48\"/>\r\n      </g>\r\n     </g>\r\n    </g>\r\n    <g id=\"xtick_3\">\r\n     <g id=\"line2d_3\">\r\n      <g>\r\n       <use style=\"stroke:#000000;stroke-width:0.8;\" x=\"228.844964\" xlink:href=\"#mc15e874ed0\" y=\"239.758125\"/>\r\n      </g>\r\n     </g>\r\n     <g id=\"text_3\">\r\n      <!-- 0.925 -->\r\n      <g transform=\"translate(214.530901 254.356563)scale(0.1 -0.1)\">\r\n       <use xlink:href=\"#DejaVuSans-48\"/>\r\n       <use x=\"63.623047\" xlink:href=\"#DejaVuSans-46\"/>\r\n       <use x=\"95.410156\" xlink:href=\"#DejaVuSans-57\"/>\r\n       <use x=\"159.033203\" xlink:href=\"#DejaVuSans-50\"/>\r\n       <use x=\"222.65625\" xlink:href=\"#DejaVuSans-53\"/>\r\n      </g>\r\n     </g>\r\n    </g>\r\n    <g id=\"xtick_4\">\r\n     <g id=\"line2d_4\">\r\n      <g>\r\n       <use style=\"stroke:#000000;stroke-width:0.8;\" x=\"297.173063\" xlink:href=\"#mc15e874ed0\" y=\"239.758125\"/>\r\n      </g>\r\n     </g>\r\n     <g id=\"text_4\">\r\n      <!-- 0.930 -->\r\n      <defs>\r\n       <path d=\"M 40.578125 39.3125 \r\nQ 47.65625 37.796875 51.625 33 \r\nQ 55.609375 28.21875 55.609375 21.1875 \r\nQ 55.609375 10.40625 48.1875 4.484375 \r\nQ 40.765625 -1.421875 27.09375 -1.421875 \r\nQ 22.515625 -1.421875 17.65625 -0.515625 \r\nQ 12.796875 0.390625 7.625 2.203125 \r\nL 7.625 11.71875 \r\nQ 11.71875 9.328125 16.59375 8.109375 \r\nQ 21.484375 6.890625 26.8125 6.890625 \r\nQ 36.078125 6.890625 40.9375 10.546875 \r\nQ 45.796875 14.203125 45.796875 21.1875 \r\nQ 45.796875 27.640625 41.28125 31.265625 \r\nQ 36.765625 34.90625 28.71875 34.90625 \r\nL 20.21875 34.90625 \r\nL 20.21875 43.015625 \r\nL 29.109375 43.015625 \r\nQ 36.375 43.015625 40.234375 45.921875 \r\nQ 44.09375 48.828125 44.09375 54.296875 \r\nQ 44.09375 59.90625 40.109375 62.90625 \r\nQ 36.140625 65.921875 28.71875 65.921875 \r\nQ 24.65625 65.921875 20.015625 65.03125 \r\nQ 15.375 64.15625 9.8125 62.3125 \r\nL 9.8125 71.09375 \r\nQ 15.4375 72.65625 20.34375 73.4375 \r\nQ 25.25 74.21875 29.59375 74.21875 \r\nQ 40.828125 74.21875 47.359375 69.109375 \r\nQ 53.90625 64.015625 53.90625 55.328125 \r\nQ 53.90625 49.265625 50.4375 45.09375 \r\nQ 46.96875 40.921875 40.578125 39.3125 \r\nz\r\n\" id=\"DejaVuSans-51\"/>\r\n      </defs>\r\n      <g transform=\"translate(282.859001 254.356563)scale(0.1 -0.1)\">\r\n       <use xlink:href=\"#DejaVuSans-48\"/>\r\n       <use x=\"63.623047\" xlink:href=\"#DejaVuSans-46\"/>\r\n       <use x=\"95.410156\" xlink:href=\"#DejaVuSans-57\"/>\r\n       <use x=\"159.033203\" xlink:href=\"#DejaVuSans-51\"/>\r\n       <use x=\"222.65625\" xlink:href=\"#DejaVuSans-48\"/>\r\n      </g>\r\n     </g>\r\n    </g>\r\n    <g id=\"xtick_5\">\r\n     <g id=\"line2d_5\">\r\n      <g>\r\n       <use style=\"stroke:#000000;stroke-width:0.8;\" x=\"365.501162\" xlink:href=\"#mc15e874ed0\" y=\"239.758125\"/>\r\n      </g>\r\n     </g>\r\n     <g id=\"text_5\">\r\n      <!-- 0.935 -->\r\n      <g transform=\"translate(351.1871 254.356563)scale(0.1 -0.1)\">\r\n       <use xlink:href=\"#DejaVuSans-48\"/>\r\n       <use x=\"63.623047\" xlink:href=\"#DejaVuSans-46\"/>\r\n       <use x=\"95.410156\" xlink:href=\"#DejaVuSans-57\"/>\r\n       <use x=\"159.033203\" xlink:href=\"#DejaVuSans-51\"/>\r\n       <use x=\"222.65625\" xlink:href=\"#DejaVuSans-53\"/>\r\n      </g>\r\n     </g>\r\n    </g>\r\n   </g>\r\n   <g id=\"matplotlib.axis_2\">\r\n    <g id=\"ytick_1\">\r\n     <g id=\"line2d_6\">\r\n      <defs>\r\n       <path d=\"M 0 0 \r\nL -3.5 0 \r\n\" id=\"m63316ef504\" style=\"stroke:#000000;stroke-width:0.8;\"/>\r\n      </defs>\r\n      <g>\r\n       <use style=\"stroke:#000000;stroke-width:0.8;\" x=\"36.465625\" xlink:href=\"#m63316ef504\" y=\"239.758125\"/>\r\n      </g>\r\n     </g>\r\n     <g id=\"text_6\">\r\n      <!-- 0.00 -->\r\n      <g transform=\"translate(7.2 243.557344)scale(0.1 -0.1)\">\r\n       <use xlink:href=\"#DejaVuSans-48\"/>\r\n       <use x=\"63.623047\" xlink:href=\"#DejaVuSans-46\"/>\r\n       <use x=\"95.410156\" xlink:href=\"#DejaVuSans-48\"/>\r\n       <use x=\"159.033203\" xlink:href=\"#DejaVuSans-48\"/>\r\n      </g>\r\n     </g>\r\n    </g>\r\n    <g id=\"ytick_2\">\r\n     <g id=\"line2d_7\">\r\n      <g>\r\n       <use style=\"stroke:#000000;stroke-width:0.8;\" x=\"36.465625\" xlink:href=\"#m63316ef504\" y=\"213.872411\"/>\r\n      </g>\r\n     </g>\r\n     <g id=\"text_7\">\r\n      <!-- 0.25 -->\r\n      <g transform=\"translate(7.2 217.671629)scale(0.1 -0.1)\">\r\n       <use xlink:href=\"#DejaVuSans-48\"/>\r\n       <use x=\"63.623047\" xlink:href=\"#DejaVuSans-46\"/>\r\n       <use x=\"95.410156\" xlink:href=\"#DejaVuSans-50\"/>\r\n       <use x=\"159.033203\" xlink:href=\"#DejaVuSans-53\"/>\r\n      </g>\r\n     </g>\r\n    </g>\r\n    <g id=\"ytick_3\">\r\n     <g id=\"line2d_8\">\r\n      <g>\r\n       <use style=\"stroke:#000000;stroke-width:0.8;\" x=\"36.465625\" xlink:href=\"#m63316ef504\" y=\"187.986696\"/>\r\n      </g>\r\n     </g>\r\n     <g id=\"text_8\">\r\n      <!-- 0.50 -->\r\n      <g transform=\"translate(7.2 191.785915)scale(0.1 -0.1)\">\r\n       <use xlink:href=\"#DejaVuSans-48\"/>\r\n       <use x=\"63.623047\" xlink:href=\"#DejaVuSans-46\"/>\r\n       <use x=\"95.410156\" xlink:href=\"#DejaVuSans-53\"/>\r\n       <use x=\"159.033203\" xlink:href=\"#DejaVuSans-48\"/>\r\n      </g>\r\n     </g>\r\n    </g>\r\n    <g id=\"ytick_4\">\r\n     <g id=\"line2d_9\">\r\n      <g>\r\n       <use style=\"stroke:#000000;stroke-width:0.8;\" x=\"36.465625\" xlink:href=\"#m63316ef504\" y=\"162.100982\"/>\r\n      </g>\r\n     </g>\r\n     <g id=\"text_9\">\r\n      <!-- 0.75 -->\r\n      <defs>\r\n       <path d=\"M 8.203125 72.90625 \r\nL 55.078125 72.90625 \r\nL 55.078125 68.703125 \r\nL 28.609375 0 \r\nL 18.3125 0 \r\nL 43.21875 64.59375 \r\nL 8.203125 64.59375 \r\nz\r\n\" id=\"DejaVuSans-55\"/>\r\n      </defs>\r\n      <g transform=\"translate(7.2 165.900201)scale(0.1 -0.1)\">\r\n       <use xlink:href=\"#DejaVuSans-48\"/>\r\n       <use x=\"63.623047\" xlink:href=\"#DejaVuSans-46\"/>\r\n       <use x=\"95.410156\" xlink:href=\"#DejaVuSans-55\"/>\r\n       <use x=\"159.033203\" xlink:href=\"#DejaVuSans-53\"/>\r\n      </g>\r\n     </g>\r\n    </g>\r\n    <g id=\"ytick_5\">\r\n     <g id=\"line2d_10\">\r\n      <g>\r\n       <use style=\"stroke:#000000;stroke-width:0.8;\" x=\"36.465625\" xlink:href=\"#m63316ef504\" y=\"136.215268\"/>\r\n      </g>\r\n     </g>\r\n     <g id=\"text_10\">\r\n      <!-- 1.00 -->\r\n      <g transform=\"translate(7.2 140.014487)scale(0.1 -0.1)\">\r\n       <use xlink:href=\"#DejaVuSans-49\"/>\r\n       <use x=\"63.623047\" xlink:href=\"#DejaVuSans-46\"/>\r\n       <use x=\"95.410156\" xlink:href=\"#DejaVuSans-48\"/>\r\n       <use x=\"159.033203\" xlink:href=\"#DejaVuSans-48\"/>\r\n      </g>\r\n     </g>\r\n    </g>\r\n    <g id=\"ytick_6\">\r\n     <g id=\"line2d_11\">\r\n      <g>\r\n       <use style=\"stroke:#000000;stroke-width:0.8;\" x=\"36.465625\" xlink:href=\"#m63316ef504\" y=\"110.329554\"/>\r\n      </g>\r\n     </g>\r\n     <g id=\"text_11\">\r\n      <!-- 1.25 -->\r\n      <g transform=\"translate(7.2 114.128772)scale(0.1 -0.1)\">\r\n       <use xlink:href=\"#DejaVuSans-49\"/>\r\n       <use x=\"63.623047\" xlink:href=\"#DejaVuSans-46\"/>\r\n       <use x=\"95.410156\" xlink:href=\"#DejaVuSans-50\"/>\r\n       <use x=\"159.033203\" xlink:href=\"#DejaVuSans-53\"/>\r\n      </g>\r\n     </g>\r\n    </g>\r\n    <g id=\"ytick_7\">\r\n     <g id=\"line2d_12\">\r\n      <g>\r\n       <use style=\"stroke:#000000;stroke-width:0.8;\" x=\"36.465625\" xlink:href=\"#m63316ef504\" y=\"84.443839\"/>\r\n      </g>\r\n     </g>\r\n     <g id=\"text_12\">\r\n      <!-- 1.50 -->\r\n      <g transform=\"translate(7.2 88.243058)scale(0.1 -0.1)\">\r\n       <use xlink:href=\"#DejaVuSans-49\"/>\r\n       <use x=\"63.623047\" xlink:href=\"#DejaVuSans-46\"/>\r\n       <use x=\"95.410156\" xlink:href=\"#DejaVuSans-53\"/>\r\n       <use x=\"159.033203\" xlink:href=\"#DejaVuSans-48\"/>\r\n      </g>\r\n     </g>\r\n    </g>\r\n    <g id=\"ytick_8\">\r\n     <g id=\"line2d_13\">\r\n      <g>\r\n       <use style=\"stroke:#000000;stroke-width:0.8;\" x=\"36.465625\" xlink:href=\"#m63316ef504\" y=\"58.558125\"/>\r\n      </g>\r\n     </g>\r\n     <g id=\"text_13\">\r\n      <!-- 1.75 -->\r\n      <g transform=\"translate(7.2 62.357344)scale(0.1 -0.1)\">\r\n       <use xlink:href=\"#DejaVuSans-49\"/>\r\n       <use x=\"63.623047\" xlink:href=\"#DejaVuSans-46\"/>\r\n       <use x=\"95.410156\" xlink:href=\"#DejaVuSans-55\"/>\r\n       <use x=\"159.033203\" xlink:href=\"#DejaVuSans-53\"/>\r\n      </g>\r\n     </g>\r\n    </g>\r\n    <g id=\"ytick_9\">\r\n     <g id=\"line2d_14\">\r\n      <g>\r\n       <use style=\"stroke:#000000;stroke-width:0.8;\" x=\"36.465625\" xlink:href=\"#m63316ef504\" y=\"32.672411\"/>\r\n      </g>\r\n     </g>\r\n     <g id=\"text_14\">\r\n      <!-- 2.00 -->\r\n      <g transform=\"translate(7.2 36.471629)scale(0.1 -0.1)\">\r\n       <use xlink:href=\"#DejaVuSans-50\"/>\r\n       <use x=\"63.623047\" xlink:href=\"#DejaVuSans-46\"/>\r\n       <use x=\"95.410156\" xlink:href=\"#DejaVuSans-48\"/>\r\n       <use x=\"159.033203\" xlink:href=\"#DejaVuSans-48\"/>\r\n      </g>\r\n     </g>\r\n    </g>\r\n   </g>\r\n   <g id=\"patch_13\">\r\n    <path d=\"M 36.465625 239.758125 \r\nL 36.465625 22.318125 \r\n\" style=\"fill:none;stroke:#000000;stroke-linecap:square;stroke-linejoin:miter;stroke-width:0.8;\"/>\r\n   </g>\r\n   <g id=\"patch_14\">\r\n    <path d=\"M 371.265625 239.758125 \r\nL 371.265625 22.318125 \r\n\" style=\"fill:none;stroke:#000000;stroke-linecap:square;stroke-linejoin:miter;stroke-width:0.8;\"/>\r\n   </g>\r\n   <g id=\"patch_15\">\r\n    <path d=\"M 36.465625 239.758125 \r\nL 371.265625 239.758125 \r\n\" style=\"fill:none;stroke:#000000;stroke-linecap:square;stroke-linejoin:miter;stroke-width:0.8;\"/>\r\n   </g>\r\n   <g id=\"patch_16\">\r\n    <path d=\"M 36.465625 22.318125 \r\nL 371.265625 22.318125 \r\n\" style=\"fill:none;stroke:#000000;stroke-linecap:square;stroke-linejoin:miter;stroke-width:0.8;\"/>\r\n   </g>\r\n   <g id=\"text_15\">\r\n    <!-- Average score: 0.9231993925860481 -->\r\n    <defs>\r\n     <path d=\"M 34.1875 63.1875 \r\nL 20.796875 26.90625 \r\nL 47.609375 26.90625 \r\nz\r\nM 28.609375 72.90625 \r\nL 39.796875 72.90625 \r\nL 67.578125 0 \r\nL 57.328125 0 \r\nL 50.6875 18.703125 \r\nL 17.828125 18.703125 \r\nL 11.1875 0 \r\nL 0.78125 0 \r\nz\r\n\" id=\"DejaVuSans-65\"/>\r\n     <path d=\"M 2.984375 54.6875 \r\nL 12.5 54.6875 \r\nL 29.59375 8.796875 \r\nL 46.6875 54.6875 \r\nL 56.203125 54.6875 \r\nL 35.6875 0 \r\nL 23.484375 0 \r\nz\r\n\" id=\"DejaVuSans-118\"/>\r\n     <path d=\"M 56.203125 29.59375 \r\nL 56.203125 25.203125 \r\nL 14.890625 25.203125 \r\nQ 15.484375 15.921875 20.484375 11.0625 \r\nQ 25.484375 6.203125 34.421875 6.203125 \r\nQ 39.59375 6.203125 44.453125 7.46875 \r\nQ 49.3125 8.734375 54.109375 11.28125 \r\nL 54.109375 2.78125 \r\nQ 49.265625 0.734375 44.1875 -0.34375 \r\nQ 39.109375 -1.421875 33.890625 -1.421875 \r\nQ 20.796875 -1.421875 13.15625 6.1875 \r\nQ 5.515625 13.8125 5.515625 26.8125 \r\nQ 5.515625 40.234375 12.765625 48.109375 \r\nQ 20.015625 56 32.328125 56 \r\nQ 43.359375 56 49.78125 48.890625 \r\nQ 56.203125 41.796875 56.203125 29.59375 \r\nz\r\nM 47.21875 32.234375 \r\nQ 47.125 39.59375 43.09375 43.984375 \r\nQ 39.0625 48.390625 32.421875 48.390625 \r\nQ 24.90625 48.390625 20.390625 44.140625 \r\nQ 15.875 39.890625 15.1875 32.171875 \r\nz\r\n\" id=\"DejaVuSans-101\"/>\r\n     <path d=\"M 41.109375 46.296875 \r\nQ 39.59375 47.171875 37.8125 47.578125 \r\nQ 36.03125 48 33.890625 48 \r\nQ 26.265625 48 22.1875 43.046875 \r\nQ 18.109375 38.09375 18.109375 28.8125 \r\nL 18.109375 0 \r\nL 9.078125 0 \r\nL 9.078125 54.6875 \r\nL 18.109375 54.6875 \r\nL 18.109375 46.1875 \r\nQ 20.953125 51.171875 25.484375 53.578125 \r\nQ 30.03125 56 36.53125 56 \r\nQ 37.453125 56 38.578125 55.875 \r\nQ 39.703125 55.765625 41.0625 55.515625 \r\nz\r\n\" id=\"DejaVuSans-114\"/>\r\n     <path d=\"M 34.28125 27.484375 \r\nQ 23.390625 27.484375 19.1875 25 \r\nQ 14.984375 22.515625 14.984375 16.5 \r\nQ 14.984375 11.71875 18.140625 8.90625 \r\nQ 21.296875 6.109375 26.703125 6.109375 \r\nQ 34.1875 6.109375 38.703125 11.40625 \r\nQ 43.21875 16.703125 43.21875 25.484375 \r\nL 43.21875 27.484375 \r\nz\r\nM 52.203125 31.203125 \r\nL 52.203125 0 \r\nL 43.21875 0 \r\nL 43.21875 8.296875 \r\nQ 40.140625 3.328125 35.546875 0.953125 \r\nQ 30.953125 -1.421875 24.3125 -1.421875 \r\nQ 15.921875 -1.421875 10.953125 3.296875 \r\nQ 6 8.015625 6 15.921875 \r\nQ 6 25.140625 12.171875 29.828125 \r\nQ 18.359375 34.515625 30.609375 34.515625 \r\nL 43.21875 34.515625 \r\nL 43.21875 35.40625 \r\nQ 43.21875 41.609375 39.140625 45 \r\nQ 35.0625 48.390625 27.6875 48.390625 \r\nQ 23 48.390625 18.546875 47.265625 \r\nQ 14.109375 46.140625 10.015625 43.890625 \r\nL 10.015625 52.203125 \r\nQ 14.9375 54.109375 19.578125 55.046875 \r\nQ 24.21875 56 28.609375 56 \r\nQ 40.484375 56 46.34375 49.84375 \r\nQ 52.203125 43.703125 52.203125 31.203125 \r\nz\r\n\" id=\"DejaVuSans-97\"/>\r\n     <path d=\"M 45.40625 27.984375 \r\nQ 45.40625 37.75 41.375 43.109375 \r\nQ 37.359375 48.484375 30.078125 48.484375 \r\nQ 22.859375 48.484375 18.828125 43.109375 \r\nQ 14.796875 37.75 14.796875 27.984375 \r\nQ 14.796875 18.265625 18.828125 12.890625 \r\nQ 22.859375 7.515625 30.078125 7.515625 \r\nQ 37.359375 7.515625 41.375 12.890625 \r\nQ 45.40625 18.265625 45.40625 27.984375 \r\nz\r\nM 54.390625 6.78125 \r\nQ 54.390625 -7.171875 48.1875 -13.984375 \r\nQ 42 -20.796875 29.203125 -20.796875 \r\nQ 24.46875 -20.796875 20.265625 -20.09375 \r\nQ 16.0625 -19.390625 12.109375 -17.921875 \r\nL 12.109375 -9.1875 \r\nQ 16.0625 -11.328125 19.921875 -12.34375 \r\nQ 23.78125 -13.375 27.78125 -13.375 \r\nQ 36.625 -13.375 41.015625 -8.765625 \r\nQ 45.40625 -4.15625 45.40625 5.171875 \r\nL 45.40625 9.625 \r\nQ 42.625 4.78125 38.28125 2.390625 \r\nQ 33.9375 0 27.875 0 \r\nQ 17.828125 0 11.671875 7.65625 \r\nQ 5.515625 15.328125 5.515625 27.984375 \r\nQ 5.515625 40.671875 11.671875 48.328125 \r\nQ 17.828125 56 27.875 56 \r\nQ 33.9375 56 38.28125 53.609375 \r\nQ 42.625 51.21875 45.40625 46.390625 \r\nL 45.40625 54.6875 \r\nL 54.390625 54.6875 \r\nz\r\n\" id=\"DejaVuSans-103\"/>\r\n     <path id=\"DejaVuSans-32\"/>\r\n     <path d=\"M 44.28125 53.078125 \r\nL 44.28125 44.578125 \r\nQ 40.484375 46.53125 36.375 47.5 \r\nQ 32.28125 48.484375 27.875 48.484375 \r\nQ 21.1875 48.484375 17.84375 46.4375 \r\nQ 14.5 44.390625 14.5 40.28125 \r\nQ 14.5 37.15625 16.890625 35.375 \r\nQ 19.28125 33.59375 26.515625 31.984375 \r\nL 29.59375 31.296875 \r\nQ 39.15625 29.25 43.1875 25.515625 \r\nQ 47.21875 21.78125 47.21875 15.09375 \r\nQ 47.21875 7.46875 41.1875 3.015625 \r\nQ 35.15625 -1.421875 24.609375 -1.421875 \r\nQ 20.21875 -1.421875 15.453125 -0.5625 \r\nQ 10.6875 0.296875 5.421875 2 \r\nL 5.421875 11.28125 \r\nQ 10.40625 8.6875 15.234375 7.390625 \r\nQ 20.0625 6.109375 24.8125 6.109375 \r\nQ 31.15625 6.109375 34.5625 8.28125 \r\nQ 37.984375 10.453125 37.984375 14.40625 \r\nQ 37.984375 18.0625 35.515625 20.015625 \r\nQ 33.0625 21.96875 24.703125 23.78125 \r\nL 21.578125 24.515625 \r\nQ 13.234375 26.265625 9.515625 29.90625 \r\nQ 5.8125 33.546875 5.8125 39.890625 \r\nQ 5.8125 47.609375 11.28125 51.796875 \r\nQ 16.75 56 26.8125 56 \r\nQ 31.78125 56 36.171875 55.265625 \r\nQ 40.578125 54.546875 44.28125 53.078125 \r\nz\r\n\" id=\"DejaVuSans-115\"/>\r\n     <path d=\"M 48.78125 52.59375 \r\nL 48.78125 44.1875 \r\nQ 44.96875 46.296875 41.140625 47.34375 \r\nQ 37.3125 48.390625 33.40625 48.390625 \r\nQ 24.65625 48.390625 19.8125 42.84375 \r\nQ 14.984375 37.3125 14.984375 27.296875 \r\nQ 14.984375 17.28125 19.8125 11.734375 \r\nQ 24.65625 6.203125 33.40625 6.203125 \r\nQ 37.3125 6.203125 41.140625 7.25 \r\nQ 44.96875 8.296875 48.78125 10.40625 \r\nL 48.78125 2.09375 \r\nQ 45.015625 0.34375 40.984375 -0.53125 \r\nQ 36.96875 -1.421875 32.421875 -1.421875 \r\nQ 20.0625 -1.421875 12.78125 6.34375 \r\nQ 5.515625 14.109375 5.515625 27.296875 \r\nQ 5.515625 40.671875 12.859375 48.328125 \r\nQ 20.21875 56 33.015625 56 \r\nQ 37.15625 56 41.109375 55.140625 \r\nQ 45.0625 54.296875 48.78125 52.59375 \r\nz\r\n\" id=\"DejaVuSans-99\"/>\r\n     <path d=\"M 30.609375 48.390625 \r\nQ 23.390625 48.390625 19.1875 42.75 \r\nQ 14.984375 37.109375 14.984375 27.296875 \r\nQ 14.984375 17.484375 19.15625 11.84375 \r\nQ 23.34375 6.203125 30.609375 6.203125 \r\nQ 37.796875 6.203125 41.984375 11.859375 \r\nQ 46.1875 17.53125 46.1875 27.296875 \r\nQ 46.1875 37.015625 41.984375 42.703125 \r\nQ 37.796875 48.390625 30.609375 48.390625 \r\nz\r\nM 30.609375 56 \r\nQ 42.328125 56 49.015625 48.375 \r\nQ 55.71875 40.765625 55.71875 27.296875 \r\nQ 55.71875 13.875 49.015625 6.21875 \r\nQ 42.328125 -1.421875 30.609375 -1.421875 \r\nQ 18.84375 -1.421875 12.171875 6.21875 \r\nQ 5.515625 13.875 5.515625 27.296875 \r\nQ 5.515625 40.765625 12.171875 48.375 \r\nQ 18.84375 56 30.609375 56 \r\nz\r\n\" id=\"DejaVuSans-111\"/>\r\n     <path d=\"M 11.71875 12.40625 \r\nL 22.015625 12.40625 \r\nL 22.015625 0 \r\nL 11.71875 0 \r\nz\r\nM 11.71875 51.703125 \r\nL 22.015625 51.703125 \r\nL 22.015625 39.3125 \r\nL 11.71875 39.3125 \r\nz\r\n\" id=\"DejaVuSans-58\"/>\r\n     <path d=\"M 31.78125 34.625 \r\nQ 24.75 34.625 20.71875 30.859375 \r\nQ 16.703125 27.09375 16.703125 20.515625 \r\nQ 16.703125 13.921875 20.71875 10.15625 \r\nQ 24.75 6.390625 31.78125 6.390625 \r\nQ 38.8125 6.390625 42.859375 10.171875 \r\nQ 46.921875 13.96875 46.921875 20.515625 \r\nQ 46.921875 27.09375 42.890625 30.859375 \r\nQ 38.875 34.625 31.78125 34.625 \r\nz\r\nM 21.921875 38.8125 \r\nQ 15.578125 40.375 12.03125 44.71875 \r\nQ 8.5 49.078125 8.5 55.328125 \r\nQ 8.5 64.0625 14.71875 69.140625 \r\nQ 20.953125 74.21875 31.78125 74.21875 \r\nQ 42.671875 74.21875 48.875 69.140625 \r\nQ 55.078125 64.0625 55.078125 55.328125 \r\nQ 55.078125 49.078125 51.53125 44.71875 \r\nQ 48 40.375 41.703125 38.8125 \r\nQ 48.828125 37.15625 52.796875 32.3125 \r\nQ 56.78125 27.484375 56.78125 20.515625 \r\nQ 56.78125 9.90625 50.3125 4.234375 \r\nQ 43.84375 -1.421875 31.78125 -1.421875 \r\nQ 19.734375 -1.421875 13.25 4.234375 \r\nQ 6.78125 9.90625 6.78125 20.515625 \r\nQ 6.78125 27.484375 10.78125 32.3125 \r\nQ 14.796875 37.15625 21.921875 38.8125 \r\nz\r\nM 18.3125 54.390625 \r\nQ 18.3125 48.734375 21.84375 45.5625 \r\nQ 25.390625 42.390625 31.78125 42.390625 \r\nQ 38.140625 42.390625 41.71875 45.5625 \r\nQ 45.3125 48.734375 45.3125 54.390625 \r\nQ 45.3125 60.0625 41.71875 63.234375 \r\nQ 38.140625 66.40625 31.78125 66.40625 \r\nQ 25.390625 66.40625 21.84375 63.234375 \r\nQ 18.3125 60.0625 18.3125 54.390625 \r\nz\r\n\" id=\"DejaVuSans-56\"/>\r\n     <path d=\"M 33.015625 40.375 \r\nQ 26.375 40.375 22.484375 35.828125 \r\nQ 18.609375 31.296875 18.609375 23.390625 \r\nQ 18.609375 15.53125 22.484375 10.953125 \r\nQ 26.375 6.390625 33.015625 6.390625 \r\nQ 39.65625 6.390625 43.53125 10.953125 \r\nQ 47.40625 15.53125 47.40625 23.390625 \r\nQ 47.40625 31.296875 43.53125 35.828125 \r\nQ 39.65625 40.375 33.015625 40.375 \r\nz\r\nM 52.59375 71.296875 \r\nL 52.59375 62.3125 \r\nQ 48.875 64.0625 45.09375 64.984375 \r\nQ 41.3125 65.921875 37.59375 65.921875 \r\nQ 27.828125 65.921875 22.671875 59.328125 \r\nQ 17.53125 52.734375 16.796875 39.40625 \r\nQ 19.671875 43.65625 24.015625 45.921875 \r\nQ 28.375 48.1875 33.59375 48.1875 \r\nQ 44.578125 48.1875 50.953125 41.515625 \r\nQ 57.328125 34.859375 57.328125 23.390625 \r\nQ 57.328125 12.15625 50.6875 5.359375 \r\nQ 44.046875 -1.421875 33.015625 -1.421875 \r\nQ 20.359375 -1.421875 13.671875 8.265625 \r\nQ 6.984375 17.96875 6.984375 36.375 \r\nQ 6.984375 53.65625 15.1875 63.9375 \r\nQ 23.390625 74.21875 37.203125 74.21875 \r\nQ 40.921875 74.21875 44.703125 73.484375 \r\nQ 48.484375 72.75 52.59375 71.296875 \r\nz\r\n\" id=\"DejaVuSans-54\"/>\r\n     <path d=\"M 37.796875 64.3125 \r\nL 12.890625 25.390625 \r\nL 37.796875 25.390625 \r\nz\r\nM 35.203125 72.90625 \r\nL 47.609375 72.90625 \r\nL 47.609375 25.390625 \r\nL 58.015625 25.390625 \r\nL 58.015625 17.1875 \r\nL 47.609375 17.1875 \r\nL 47.609375 0 \r\nL 37.796875 0 \r\nL 37.796875 17.1875 \r\nL 4.890625 17.1875 \r\nL 4.890625 26.703125 \r\nz\r\n\" id=\"DejaVuSans-52\"/>\r\n    </defs>\r\n    <g transform=\"translate(90.4675 16.318125)scale(0.12 -0.12)\">\r\n     <use xlink:href=\"#DejaVuSans-65\"/>\r\n     <use x=\"62.533203\" xlink:href=\"#DejaVuSans-118\"/>\r\n     <use x=\"121.712891\" xlink:href=\"#DejaVuSans-101\"/>\r\n     <use x=\"183.236328\" xlink:href=\"#DejaVuSans-114\"/>\r\n     <use x=\"224.349609\" xlink:href=\"#DejaVuSans-97\"/>\r\n     <use x=\"285.628906\" xlink:href=\"#DejaVuSans-103\"/>\r\n     <use x=\"349.105469\" xlink:href=\"#DejaVuSans-101\"/>\r\n     <use x=\"410.628906\" xlink:href=\"#DejaVuSans-32\"/>\r\n     <use x=\"442.416016\" xlink:href=\"#DejaVuSans-115\"/>\r\n     <use x=\"494.515625\" xlink:href=\"#DejaVuSans-99\"/>\r\n     <use x=\"549.496094\" xlink:href=\"#DejaVuSans-111\"/>\r\n     <use x=\"610.677734\" xlink:href=\"#DejaVuSans-114\"/>\r\n     <use x=\"649.541016\" xlink:href=\"#DejaVuSans-101\"/>\r\n     <use x=\"711.064453\" xlink:href=\"#DejaVuSans-58\"/>\r\n     <use x=\"744.755859\" xlink:href=\"#DejaVuSans-32\"/>\r\n     <use x=\"776.542969\" xlink:href=\"#DejaVuSans-48\"/>\r\n     <use x=\"840.166016\" xlink:href=\"#DejaVuSans-46\"/>\r\n     <use x=\"871.953125\" xlink:href=\"#DejaVuSans-57\"/>\r\n     <use x=\"935.576172\" xlink:href=\"#DejaVuSans-50\"/>\r\n     <use x=\"999.199219\" xlink:href=\"#DejaVuSans-51\"/>\r\n     <use x=\"1062.822266\" xlink:href=\"#DejaVuSans-49\"/>\r\n     <use x=\"1126.445312\" xlink:href=\"#DejaVuSans-57\"/>\r\n     <use x=\"1190.068359\" xlink:href=\"#DejaVuSans-57\"/>\r\n     <use x=\"1253.691406\" xlink:href=\"#DejaVuSans-51\"/>\r\n     <use x=\"1317.314453\" xlink:href=\"#DejaVuSans-57\"/>\r\n     <use x=\"1380.9375\" xlink:href=\"#DejaVuSans-50\"/>\r\n     <use x=\"1444.560547\" xlink:href=\"#DejaVuSans-53\"/>\r\n     <use x=\"1508.183594\" xlink:href=\"#DejaVuSans-56\"/>\r\n     <use x=\"1571.806641\" xlink:href=\"#DejaVuSans-54\"/>\r\n     <use x=\"1635.429688\" xlink:href=\"#DejaVuSans-48\"/>\r\n     <use x=\"1699.052734\" xlink:href=\"#DejaVuSans-52\"/>\r\n     <use x=\"1762.675781\" xlink:href=\"#DejaVuSans-56\"/>\r\n     <use x=\"1826.298828\" xlink:href=\"#DejaVuSans-49\"/>\r\n    </g>\r\n   </g>\r\n  </g>\r\n </g>\r\n <defs>\r\n  <clipPath id=\"pa8339fa7e8\">\r\n   <rect height=\"217.44\" width=\"334.8\" x=\"36.465625\" y=\"22.318125\"/>\r\n  </clipPath>\r\n </defs>\r\n</svg>\r\n",
      "image/png": "[encoded data removed]"
     },
     "metadata": {
      "needs_background": "light"
     }
    }
   ],
   "source": [
    "from sklearn.model_selection import cross_val_score\n",
    "\n",
    "cv_scores = cross_val_score(clf, all_inputs, all_labels, cv=10)\n",
    "plt.hist(cv_scores)\n",
    "plt.title('Average score: {}'.format(np.mean(cv_scores)))"
   ]
  },
  {
   "cell_type": "code",
   "execution_count": 12,
   "metadata": {},
   "outputs": [
    {
     "output_type": "stream",
     "name": "stdout",
     "text": [
      "Fitting 5 folds for each of 18 candidates, totalling 90 fits\n",
      "[CV 1/5] END activation=tanh, alpha=0.0001, hidden_layer_sizes=10, max_iter=500, solver=adam; total time=  13.1s\n",
      "[CV 2/5] END activation=tanh, alpha=0.0001, hidden_layer_sizes=10, max_iter=500, solver=adam; total time=  11.2s\n",
      "[CV 3/5] END activation=tanh, alpha=0.0001, hidden_layer_sizes=10, max_iter=500, solver=adam; total time=   9.2s\n",
      "[CV 4/5] END activation=tanh, alpha=0.0001, hidden_layer_sizes=10, max_iter=500, solver=adam; total time=   9.8s\n",
      "[CV 5/5] END activation=tanh, alpha=0.0001, hidden_layer_sizes=10, max_iter=500, solver=adam; total time=   8.3s\n",
      "[CV 1/5] END activation=tanh, alpha=0.0001, hidden_layer_sizes=50, max_iter=500, solver=adam; total time=   9.5s\n",
      "[CV 2/5] END activation=tanh, alpha=0.0001, hidden_layer_sizes=50, max_iter=500, solver=adam; total time=   9.6s\n",
      "[CV 3/5] END activation=tanh, alpha=0.0001, hidden_layer_sizes=50, max_iter=500, solver=adam; total time=  10.4s\n",
      "[CV 4/5] END activation=tanh, alpha=0.0001, hidden_layer_sizes=50, max_iter=500, solver=adam; total time=   7.0s\n",
      "[CV 5/5] END activation=tanh, alpha=0.0001, hidden_layer_sizes=50, max_iter=500, solver=adam; total time=  10.3s\n",
      "[CV 1/5] END activation=tanh, alpha=0.0001, hidden_layer_sizes=100, max_iter=500, solver=adam; total time=  25.6s\n",
      "[CV 2/5] END activation=tanh, alpha=0.0001, hidden_layer_sizes=100, max_iter=500, solver=adam; total time=  20.4s\n",
      "[CV 3/5] END activation=tanh, alpha=0.0001, hidden_layer_sizes=100, max_iter=500, solver=adam; total time=  20.0s\n",
      "[CV 4/5] END activation=tanh, alpha=0.0001, hidden_layer_sizes=100, max_iter=500, solver=adam; total time=  12.7s\n",
      "[CV 5/5] END activation=tanh, alpha=0.0001, hidden_layer_sizes=100, max_iter=500, solver=adam; total time=  16.1s\n",
      "[CV 1/5] END activation=tanh, alpha=0.001, hidden_layer_sizes=10, max_iter=500, solver=adam; total time=   8.5s\n",
      "[CV 2/5] END activation=tanh, alpha=0.001, hidden_layer_sizes=10, max_iter=500, solver=adam; total time=   8.9s\n",
      "[CV 3/5] END activation=tanh, alpha=0.001, hidden_layer_sizes=10, max_iter=500, solver=adam; total time=   8.7s\n",
      "[CV 4/5] END activation=tanh, alpha=0.001, hidden_layer_sizes=10, max_iter=500, solver=adam; total time=   9.6s\n",
      "[CV 5/5] END activation=tanh, alpha=0.001, hidden_layer_sizes=10, max_iter=500, solver=adam; total time=   9.3s\n",
      "[CV 1/5] END activation=tanh, alpha=0.001, hidden_layer_sizes=50, max_iter=500, solver=adam; total time=  12.2s\n",
      "[CV 2/5] END activation=tanh, alpha=0.001, hidden_layer_sizes=50, max_iter=500, solver=adam; total time=  14.8s\n",
      "[CV 3/5] END activation=tanh, alpha=0.001, hidden_layer_sizes=50, max_iter=500, solver=adam; total time=  11.3s\n",
      "[CV 4/5] END activation=tanh, alpha=0.001, hidden_layer_sizes=50, max_iter=500, solver=adam; total time=   8.3s\n",
      "[CV 5/5] END activation=tanh, alpha=0.001, hidden_layer_sizes=50, max_iter=500, solver=adam; total time=  12.4s\n",
      "[CV 1/5] END activation=tanh, alpha=0.001, hidden_layer_sizes=100, max_iter=500, solver=adam; total time=  18.0s\n",
      "[CV 2/5] END activation=tanh, alpha=0.001, hidden_layer_sizes=100, max_iter=500, solver=adam; total time=  15.3s\n",
      "[CV 3/5] END activation=tanh, alpha=0.001, hidden_layer_sizes=100, max_iter=500, solver=adam; total time=  12.2s\n",
      "[CV 4/5] END activation=tanh, alpha=0.001, hidden_layer_sizes=100, max_iter=500, solver=adam; total time=  19.4s\n",
      "[CV 5/5] END activation=tanh, alpha=0.001, hidden_layer_sizes=100, max_iter=500, solver=adam; total time=  23.4s\n",
      "[CV 1/5] END activation=tanh, alpha=0.01, hidden_layer_sizes=10, max_iter=500, solver=adam; total time=   7.2s\n",
      "[CV 2/5] END activation=tanh, alpha=0.01, hidden_layer_sizes=10, max_iter=500, solver=adam; total time=   8.2s\n",
      "[CV 3/5] END activation=tanh, alpha=0.01, hidden_layer_sizes=10, max_iter=500, solver=adam; total time=   9.1s\n",
      "[CV 4/5] END activation=tanh, alpha=0.01, hidden_layer_sizes=10, max_iter=500, solver=adam; total time=   7.6s\n",
      "[CV 5/5] END activation=tanh, alpha=0.01, hidden_layer_sizes=10, max_iter=500, solver=adam; total time=   9.6s\n",
      "[CV 1/5] END activation=tanh, alpha=0.01, hidden_layer_sizes=50, max_iter=500, solver=adam; total time=  12.6s\n",
      "[CV 2/5] END activation=tanh, alpha=0.01, hidden_layer_sizes=50, max_iter=500, solver=adam; total time=  11.6s\n",
      "[CV 3/5] END activation=tanh, alpha=0.01, hidden_layer_sizes=50, max_iter=500, solver=adam; total time=  13.3s\n",
      "[CV 4/5] END activation=tanh, alpha=0.01, hidden_layer_sizes=50, max_iter=500, solver=adam; total time=  12.4s\n",
      "[CV 5/5] END activation=tanh, alpha=0.01, hidden_layer_sizes=50, max_iter=500, solver=adam; total time=  10.5s\n",
      "[CV 1/5] END activation=tanh, alpha=0.01, hidden_layer_sizes=100, max_iter=500, solver=adam; total time=  25.1s\n",
      "[CV 2/5] END activation=tanh, alpha=0.01, hidden_layer_sizes=100, max_iter=500, solver=adam; total time=  15.8s\n",
      "[CV 3/5] END activation=tanh, alpha=0.01, hidden_layer_sizes=100, max_iter=500, solver=adam; total time=  17.6s\n",
      "[CV 4/5] END activation=tanh, alpha=0.01, hidden_layer_sizes=100, max_iter=500, solver=adam; total time=  20.9s\n",
      "[CV 5/5] END activation=tanh, alpha=0.01, hidden_layer_sizes=100, max_iter=500, solver=adam; total time=  20.1s\n",
      "[CV 1/5] END activation=logistic, alpha=0.0001, hidden_layer_sizes=10, max_iter=500, solver=adam; total time=   9.0s\n",
      "[CV 2/5] END activation=logistic, alpha=0.0001, hidden_layer_sizes=10, max_iter=500, solver=adam; total time=   8.0s\n",
      "[CV 3/5] END activation=logistic, alpha=0.0001, hidden_layer_sizes=10, max_iter=500, solver=adam; total time=   8.8s\n",
      "[CV 4/5] END activation=logistic, alpha=0.0001, hidden_layer_sizes=10, max_iter=500, solver=adam; total time=   8.8s\n",
      "[CV 5/5] END activation=logistic, alpha=0.0001, hidden_layer_sizes=10, max_iter=500, solver=adam; total time=   9.0s\n",
      "[CV 1/5] END activation=logistic, alpha=0.0001, hidden_layer_sizes=50, max_iter=500, solver=adam; total time=  10.9s\n",
      "[CV 2/5] END activation=logistic, alpha=0.0001, hidden_layer_sizes=50, max_iter=500, solver=adam; total time=   9.4s\n",
      "[CV 3/5] END activation=logistic, alpha=0.0001, hidden_layer_sizes=50, max_iter=500, solver=adam; total time=  11.9s\n",
      "[CV 4/5] END activation=logistic, alpha=0.0001, hidden_layer_sizes=50, max_iter=500, solver=adam; total time=  12.3s\n",
      "[CV 5/5] END activation=logistic, alpha=0.0001, hidden_layer_sizes=50, max_iter=500, solver=adam; total time=   9.8s\n",
      "[CV 1/5] END activation=logistic, alpha=0.0001, hidden_layer_sizes=100, max_iter=500, solver=adam; total time=  19.9s\n",
      "[CV 2/5] END activation=logistic, alpha=0.0001, hidden_layer_sizes=100, max_iter=500, solver=adam; total time=  24.8s\n",
      "[CV 3/5] END activation=logistic, alpha=0.0001, hidden_layer_sizes=100, max_iter=500, solver=adam; total time=  22.8s\n",
      "[CV 4/5] END activation=logistic, alpha=0.0001, hidden_layer_sizes=100, max_iter=500, solver=adam; total time=  22.0s\n",
      "[CV 5/5] END activation=logistic, alpha=0.0001, hidden_layer_sizes=100, max_iter=500, solver=adam; total time=  24.8s\n",
      "[CV 1/5] END activation=logistic, alpha=0.001, hidden_layer_sizes=10, max_iter=500, solver=adam; total time=  10.6s\n",
      "[CV 2/5] END activation=logistic, alpha=0.001, hidden_layer_sizes=10, max_iter=500, solver=adam; total time=  13.3s\n",
      "[CV 3/5] END activation=logistic, alpha=0.001, hidden_layer_sizes=10, max_iter=500, solver=adam; total time=   9.1s\n",
      "[CV 4/5] END activation=logistic, alpha=0.001, hidden_layer_sizes=10, max_iter=500, solver=adam; total time=  11.2s\n",
      "[CV 5/5] END activation=logistic, alpha=0.001, hidden_layer_sizes=10, max_iter=500, solver=adam; total time=  10.4s\n",
      "[CV 1/5] END activation=logistic, alpha=0.001, hidden_layer_sizes=50, max_iter=500, solver=adam; total time=   9.9s\n",
      "[CV 2/5] END activation=logistic, alpha=0.001, hidden_layer_sizes=50, max_iter=500, solver=adam; total time=  15.7s\n",
      "[CV 3/5] END activation=logistic, alpha=0.001, hidden_layer_sizes=50, max_iter=500, solver=adam; total time=  12.1s\n",
      "[CV 4/5] END activation=logistic, alpha=0.001, hidden_layer_sizes=50, max_iter=500, solver=adam; total time=  10.3s\n",
      "[CV 5/5] END activation=logistic, alpha=0.001, hidden_layer_sizes=50, max_iter=500, solver=adam; total time=  12.9s\n",
      "[CV 1/5] END activation=logistic, alpha=0.001, hidden_layer_sizes=100, max_iter=500, solver=adam; total time=  25.6s\n",
      "[CV 2/5] END activation=logistic, alpha=0.001, hidden_layer_sizes=100, max_iter=500, solver=adam; total time=  28.5s\n",
      "[CV 3/5] END activation=logistic, alpha=0.001, hidden_layer_sizes=100, max_iter=500, solver=adam; total time=  23.4s\n",
      "[CV 4/5] END activation=logistic, alpha=0.001, hidden_layer_sizes=100, max_iter=500, solver=adam; total time=  26.2s\n",
      "[CV 5/5] END activation=logistic, alpha=0.001, hidden_layer_sizes=100, max_iter=500, solver=adam; total time=  20.1s\n",
      "[CV 1/5] END activation=logistic, alpha=0.01, hidden_layer_sizes=10, max_iter=500, solver=adam; total time=   9.3s\n",
      "[CV 2/5] END activation=logistic, alpha=0.01, hidden_layer_sizes=10, max_iter=500, solver=adam; total time=   9.3s\n",
      "[CV 3/5] END activation=logistic, alpha=0.01, hidden_layer_sizes=10, max_iter=500, solver=adam; total time=   9.9s\n",
      "[CV 4/5] END activation=logistic, alpha=0.01, hidden_layer_sizes=10, max_iter=500, solver=adam; total time=  10.0s\n",
      "[CV 5/5] END activation=logistic, alpha=0.01, hidden_layer_sizes=10, max_iter=500, solver=adam; total time=   8.7s\n",
      "[CV 1/5] END activation=logistic, alpha=0.01, hidden_layer_sizes=50, max_iter=500, solver=adam; total time=  17.1s\n",
      "[CV 2/5] END activation=logistic, alpha=0.01, hidden_layer_sizes=50, max_iter=500, solver=adam; total time=  19.7s\n",
      "[CV 3/5] END activation=logistic, alpha=0.01, hidden_layer_sizes=50, max_iter=500, solver=adam; total time=  15.2s\n",
      "[CV 4/5] END activation=logistic, alpha=0.01, hidden_layer_sizes=50, max_iter=500, solver=adam; total time=  16.8s\n",
      "[CV 5/5] END activation=logistic, alpha=0.01, hidden_layer_sizes=50, max_iter=500, solver=adam; total time=  13.8s\n",
      "[CV 1/5] END activation=logistic, alpha=0.01, hidden_layer_sizes=100, max_iter=500, solver=adam; total time=  26.4s\n",
      "[CV 2/5] END activation=logistic, alpha=0.01, hidden_layer_sizes=100, max_iter=500, solver=adam; total time=  27.4s\n",
      "[CV 3/5] END activation=logistic, alpha=0.01, hidden_layer_sizes=100, max_iter=500, solver=adam; total time=  26.1s\n",
      "[CV 4/5] END activation=logistic, alpha=0.01, hidden_layer_sizes=100, max_iter=500, solver=adam; total time=  32.3s\n",
      "[CV 5/5] END activation=logistic, alpha=0.01, hidden_layer_sizes=100, max_iter=500, solver=adam; total time=  24.9s\n",
      "Best score: 0.9326030278719941\n",
      "Best parameters: {'activation': 'logistic', 'alpha': 0.001, 'hidden_layer_sizes': 50, 'max_iter': 500, 'solver': 'adam'}\n",
      "Best estimator: MLPClassifier(activation='logistic', alpha=0.001, hidden_layer_sizes=50,\n",
      "              max_iter=500)\n"
     ]
    }
   ],
   "source": [
    "from sklearn.model_selection import GridSearchCV\n",
    "from sklearn.model_selection import StratifiedKFold\n",
    "\n",
    "parameter_grid = {\n",
    "    'solver': ['adam'],\n",
    "    'activation' : ['tanh', 'logistic'],\n",
    "    'alpha': [0.0001, 0.001, 0.01], \n",
    "    'hidden_layer_sizes': [10, 50, 100],\n",
    "    'max_iter' : [500]}\n",
    "\n",
    "\n",
    "cross_validation = StratifiedKFold(n_splits=5)\n",
    "\n",
    "grid_search = GridSearchCV(\n",
    "    MLPClassifier(), \n",
    "    param_grid=parameter_grid, \n",
    "    cv=cross_validation,\n",
    "    verbose=3)\n",
    "\n",
    "grid_search.fit(all_inputs, all_labels)\n",
    "print('Best score: {}'.format(grid_search.best_score_))\n",
    "print('Best parameters: {}'.format(grid_search.best_params_))\n",
    "print('Best estimator: {}'.format(grid_search.best_estimator_))"
   ]
  },
  {
   "cell_type": "code",
   "execution_count": null,
   "metadata": {},
   "outputs": [],
   "source": []
  }
 ]
}