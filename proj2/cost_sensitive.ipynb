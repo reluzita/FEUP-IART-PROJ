{
 "metadata": {
  "language_info": {
   "codemirror_mode": {
    "name": "ipython",
    "version": 3
   },
   "file_extension": ".py",
   "mimetype": "text/x-python",
   "name": "python",
   "nbconvert_exporter": "python",
   "pygments_lexer": "ipython3",
   "version": "3.6.10"
  },
  "orig_nbformat": 2,
  "kernelspec": {
   "name": "python3610jvsc74a57bd0735faef179f5cb085525f3faaa83caf951f2a05dfe70ead795f24f805eb4c248",
   "display_name": "Python 3.6.10 64-bit ('py36': conda)"
  }
 },
 "nbformat": 4,
 "nbformat_minor": 2,
 "cells": [
  {
   "cell_type": "code",
   "execution_count": 1,
   "metadata": {},
   "outputs": [],
   "source": [
    "import pandas as pd\n",
    "from sklearn.model_selection import train_test_split\n",
    "from sklearn.tree import DecisionTreeClassifier\n",
    "from sklearn.metrics import classification_report, confusion_matrix\n",
    "from sklearn.model_selection import GridSearchCV"
   ]
  },
  {
   "cell_type": "code",
   "execution_count": 23,
   "metadata": {},
   "outputs": [],
   "source": [
    "df = pd.read_csv('large_data.csv')\n",
    "df['TYPE'] = df['TYPE'].astype('category')"
   ]
  },
  {
   "source": [
    "### Cost-sensitive resampling"
   ],
   "cell_type": "markdown",
   "metadata": {}
  },
  {
   "cell_type": "code",
   "execution_count": 24,
   "metadata": {},
   "outputs": [],
   "source": [
    "covid_df = df.loc[df['TYPE'] == 'COVID']\n",
    "flu_df = df.loc[df['TYPE'] == 'FLU']\n",
    "allergy_df = df.loc[df['TYPE'] == 'ALLERGY']\n",
    "cold_df = df.loc[df['TYPE'] == 'COLD']"
   ]
  },
  {
   "cell_type": "code",
   "execution_count": 13,
   "metadata": {},
   "outputs": [
    {
     "output_type": "stream",
     "name": "stdout",
     "text": [
      "covid cases :  2048\ncold cases :  1024\nallergy cases :  16381\nflu cases :  25000\n"
     ]
    }
   ],
   "source": [
    "print(\"covid cases : \", covid_df.shape[0])\n",
    "print(\"cold cases : \", cold_df.shape[0])\n",
    "print(\"allergy cases : \", allergy_df.shape[0])\n",
    "print(\"flu cases : \", flu_df.shape[0])"
   ]
  },
  {
   "source": [
    "#### Under-sampling"
   ],
   "cell_type": "markdown",
   "metadata": {}
  },
  {
   "cell_type": "code",
   "execution_count": 14,
   "metadata": {},
   "outputs": [],
   "source": [
    "covid_df = covid_df.sample(n=1024, random_state=1)\n",
    "flu_df = flu_df.sample(n=1024, random_state=1)\n",
    "allergy_df = allergy_df.sample(n=1024, random_state=1)\n",
    "\n",
    "undersampled_df = pd.concat([cold_df, covid_df, allergy_df, flu_df])"
   ]
  },
  {
   "source": [
    "#### Over-sampling"
   ],
   "cell_type": "markdown",
   "metadata": {}
  },
  {
   "cell_type": "code",
   "execution_count": 25,
   "metadata": {},
   "outputs": [],
   "source": [
    "covid_df = covid_df.sample(n=25000, replace=True, random_state=1)\n",
    "cold_df = cold_df.sample(n=25000, replace=True, random_state=1)\n",
    "allergy_df = allergy_df.sample(n=25000, replace=True, random_state=1)\n",
    "\n",
    "oversampled_df = pd.concat([cold_df, covid_df, allergy_df, flu_df])"
   ]
  },
  {
   "source": [
    "#### Train Test Split"
   ],
   "cell_type": "markdown",
   "metadata": {}
  },
  {
   "cell_type": "code",
   "execution_count": 26,
   "metadata": {},
   "outputs": [],
   "source": [
    "input_names = list(oversampled_df.columns)\n",
    "input_names.remove('TYPE')\n",
    "\n",
    "all_inputs = oversampled_df[input_names].values\n",
    "all_labels = oversampled_df['TYPE'].values"
   ]
  },
  {
   "cell_type": "code",
   "execution_count": 27,
   "metadata": {},
   "outputs": [],
   "source": [
    "(training_inputs,\n",
    " testing_inputs,\n",
    " training_classes,\n",
    " testing_classes) = train_test_split(all_inputs, all_labels, test_size=0.25, random_state=1, stratify=all_labels)"
   ]
  },
  {
   "source": [
    "### Cost-sensitive algorithms\n",
    "The scikit-learn Python machine learning library provides examples of these cost-sensitive extensions via the class_weight argument on the following classifiers:\n",
    "- SVC\n",
    "- DecisionTreeClassifier\n",
    "\n",
    "The scikit-learn library provides examples of these cost-sensitive extensions via the class_weight argument on the following classifiers:\n",
    "- LogisticRegression\n",
    "- RidgeClassifier"
   ],
   "cell_type": "markdown",
   "metadata": {}
  },
  {
   "cell_type": "code",
   "execution_count": 28,
   "metadata": {},
   "outputs": [
    {
     "output_type": "execute_result",
     "data": {
      "text/plain": [
       "0.95968"
      ]
     },
     "metadata": {},
     "execution_count": 28
    }
   ],
   "source": [
    "decision_tree_classifier = DecisionTreeClassifier()\n",
    "decision_tree_classifier.fit(training_inputs, training_classes)\n",
    "decision_tree_classifier.score(testing_inputs, testing_classes)"
   ]
  },
  {
   "cell_type": "code",
   "execution_count": 46,
   "metadata": {},
   "outputs": [
    {
     "output_type": "execute_result",
     "data": {
      "text/plain": [
       "0.95968"
      ]
     },
     "metadata": {},
     "execution_count": 46
    }
   ],
   "source": [
    "decision_tree_classifier2 = DecisionTreeClassifier(class_weight={'ALLERGY':1, 'FLU':1, 'COLD':2, 'COVID':1})\n",
    "decision_tree_classifier2.fit(training_inputs, training_classes)\n",
    "decision_tree_classifier2.score(testing_inputs, testing_classes)"
   ]
  },
  {
   "cell_type": "code",
   "execution_count": 30,
   "metadata": {},
   "outputs": [
    {
     "output_type": "stream",
     "name": "stdout",
     "text": [
      "              precision    recall  f1-score   support\n\n     ALLERGY       1.00      0.97      0.98      6250\n        COLD       0.92      1.00      0.96      6250\n       COVID       0.92      0.97      0.95      6250\n         FLU       1.00      0.91      0.95      6250\n\n    accuracy                           0.96     25000\n   macro avg       0.96      0.96      0.96     25000\nweighted avg       0.96      0.96      0.96     25000\n\n"
     ]
    }
   ],
   "source": [
    "predictions = decision_tree_classifier.predict(testing_inputs)\n",
    "print(classification_report(testing_classes, predictions))"
   ]
  },
  {
   "cell_type": "code",
   "execution_count": 47,
   "metadata": {},
   "outputs": [
    {
     "output_type": "stream",
     "name": "stdout",
     "text": [
      "              precision    recall  f1-score   support\n\n     ALLERGY       1.00      0.97      0.98      6250\n        COLD       0.92      1.00      0.96      6250\n       COVID       0.92      0.97      0.95      6250\n         FLU       1.00      0.91      0.95      6250\n\n    accuracy                           0.96     25000\n   macro avg       0.96      0.96      0.96     25000\nweighted avg       0.96      0.96      0.96     25000\n\n"
     ]
    }
   ],
   "source": [
    "predictions2 = decision_tree_classifier2.predict(testing_inputs)\n",
    "print(classification_report(testing_classes, predictions2))"
   ]
  },
  {
   "cell_type": "code",
   "execution_count": 16,
   "metadata": {
    "tags": []
   },
   "outputs": [
    {
     "output_type": "stream",
     "name": "stdout",
     "text": [
      "Fitting 10 folds for each of 20 candidates, totalling 200 fits\n",
      "[CV 1/10] END criterion=gini, max_depth=13, max_features=14, splitter=random; total time=   0.2s\n",
      "[CV 2/10] END criterion=gini, max_depth=13, max_features=14, splitter=random; total time=   0.2s\n",
      "[CV 3/10] END criterion=gini, max_depth=13, max_features=14, splitter=random; total time=   0.2s\n",
      "[CV 4/10] END criterion=gini, max_depth=13, max_features=14, splitter=random; total time=   0.2s\n",
      "[CV 5/10] END criterion=gini, max_depth=13, max_features=14, splitter=random; total time=   0.2s\n",
      "[CV 6/10] END criterion=gini, max_depth=13, max_features=14, splitter=random; total time=   0.2s\n",
      "[CV 7/10] END criterion=gini, max_depth=13, max_features=14, splitter=random; total time=   0.2s\n",
      "[CV 8/10] END criterion=gini, max_depth=13, max_features=14, splitter=random; total time=   0.2s\n",
      "[CV 9/10] END criterion=gini, max_depth=13, max_features=14, splitter=random; total time=   0.2s\n",
      "[CV 10/10] END criterion=gini, max_depth=13, max_features=14, splitter=random; total time=   0.1s\n",
      "[CV 1/10] END criterion=gini, max_depth=13, max_features=15, splitter=random; total time=   0.2s\n",
      "[CV 2/10] END criterion=gini, max_depth=13, max_features=15, splitter=random; total time=   0.2s\n",
      "[CV 3/10] END criterion=gini, max_depth=13, max_features=15, splitter=random; total time=   0.2s\n",
      "[CV 4/10] END criterion=gini, max_depth=13, max_features=15, splitter=random; total time=   0.2s\n",
      "[CV 5/10] END criterion=gini, max_depth=13, max_features=15, splitter=random; total time=   0.2s\n",
      "[CV 6/10] END criterion=gini, max_depth=13, max_features=15, splitter=random; total time=   0.2s\n",
      "[CV 7/10] END criterion=gini, max_depth=13, max_features=15, splitter=random; total time=   0.2s\n",
      "[CV 8/10] END criterion=gini, max_depth=13, max_features=15, splitter=random; total time=   0.2s\n",
      "[CV 9/10] END criterion=gini, max_depth=13, max_features=15, splitter=random; total time=   0.2s\n",
      "[CV 10/10] END criterion=gini, max_depth=13, max_features=15, splitter=random; total time=   0.2s\n",
      "[CV 1/10] END criterion=gini, max_depth=13, max_features=16, splitter=random; total time=   0.2s\n",
      "[CV 2/10] END criterion=gini, max_depth=13, max_features=16, splitter=random; total time=   0.2s\n",
      "[CV 3/10] END criterion=gini, max_depth=13, max_features=16, splitter=random; total time=   0.2s\n",
      "[CV 4/10] END criterion=gini, max_depth=13, max_features=16, splitter=random; total time=   0.2s\n",
      "[CV 5/10] END criterion=gini, max_depth=13, max_features=16, splitter=random; total time=   0.2s\n",
      "[CV 6/10] END criterion=gini, max_depth=13, max_features=16, splitter=random; total time=   0.2s\n",
      "[CV 7/10] END criterion=gini, max_depth=13, max_features=16, splitter=random; total time=   0.2s\n",
      "[CV 8/10] END criterion=gini, max_depth=13, max_features=16, splitter=random; total time=   0.2s\n",
      "[CV 9/10] END criterion=gini, max_depth=13, max_features=16, splitter=random; total time=   0.2s\n",
      "[CV 10/10] END criterion=gini, max_depth=13, max_features=16, splitter=random; total time=   0.2s\n",
      "[CV 1/10] END criterion=gini, max_depth=13, max_features=17, splitter=random; total time=   0.3s\n",
      "[CV 2/10] END criterion=gini, max_depth=13, max_features=17, splitter=random; total time=   0.2s\n",
      "[CV 3/10] END criterion=gini, max_depth=13, max_features=17, splitter=random; total time=   0.2s\n",
      "[CV 4/10] END criterion=gini, max_depth=13, max_features=17, splitter=random; total time=   0.2s\n",
      "[CV 5/10] END criterion=gini, max_depth=13, max_features=17, splitter=random; total time=   0.2s\n",
      "[CV 6/10] END criterion=gini, max_depth=13, max_features=17, splitter=random; total time=   0.2s\n",
      "[CV 7/10] END criterion=gini, max_depth=13, max_features=17, splitter=random; total time=   0.2s\n",
      "[CV 8/10] END criterion=gini, max_depth=13, max_features=17, splitter=random; total time=   0.2s\n",
      "[CV 9/10] END criterion=gini, max_depth=13, max_features=17, splitter=random; total time=   0.2s\n",
      "[CV 10/10] END criterion=gini, max_depth=13, max_features=17, splitter=random; total time=   0.2s\n",
      "[CV 1/10] END criterion=gini, max_depth=14, max_features=14, splitter=random; total time=   0.2s\n",
      "[CV 2/10] END criterion=gini, max_depth=14, max_features=14, splitter=random; total time=   0.2s\n",
      "[CV 3/10] END criterion=gini, max_depth=14, max_features=14, splitter=random; total time=   0.2s\n",
      "[CV 4/10] END criterion=gini, max_depth=14, max_features=14, splitter=random; total time=   0.2s\n",
      "[CV 5/10] END criterion=gini, max_depth=14, max_features=14, splitter=random; total time=   0.2s\n",
      "[CV 6/10] END criterion=gini, max_depth=14, max_features=14, splitter=random; total time=   0.2s\n",
      "[CV 7/10] END criterion=gini, max_depth=14, max_features=14, splitter=random; total time=   0.2s\n",
      "[CV 8/10] END criterion=gini, max_depth=14, max_features=14, splitter=random; total time=   0.2s\n",
      "[CV 9/10] END criterion=gini, max_depth=14, max_features=14, splitter=random; total time=   0.2s\n",
      "[CV 10/10] END criterion=gini, max_depth=14, max_features=14, splitter=random; total time=   0.2s\n",
      "[CV 1/10] END criterion=gini, max_depth=14, max_features=15, splitter=random; total time=   0.3s\n",
      "[CV 2/10] END criterion=gini, max_depth=14, max_features=15, splitter=random; total time=   0.3s\n",
      "[CV 3/10] END criterion=gini, max_depth=14, max_features=15, splitter=random; total time=   0.3s\n",
      "[CV 4/10] END criterion=gini, max_depth=14, max_features=15, splitter=random; total time=   0.3s\n",
      "[CV 5/10] END criterion=gini, max_depth=14, max_features=15, splitter=random; total time=   0.3s\n",
      "[CV 6/10] END criterion=gini, max_depth=14, max_features=15, splitter=random; total time=   0.2s\n",
      "[CV 7/10] END criterion=gini, max_depth=14, max_features=15, splitter=random; total time=   0.3s\n",
      "[CV 8/10] END criterion=gini, max_depth=14, max_features=15, splitter=random; total time=   0.3s\n",
      "[CV 9/10] END criterion=gini, max_depth=14, max_features=15, splitter=random; total time=   0.3s\n",
      "[CV 10/10] END criterion=gini, max_depth=14, max_features=15, splitter=random; total time=   0.3s\n",
      "[CV 1/10] END criterion=gini, max_depth=14, max_features=16, splitter=random; total time=   0.3s\n",
      "[CV 2/10] END criterion=gini, max_depth=14, max_features=16, splitter=random; total time=   0.3s\n",
      "[CV 3/10] END criterion=gini, max_depth=14, max_features=16, splitter=random; total time=   0.4s\n",
      "[CV 4/10] END criterion=gini, max_depth=14, max_features=16, splitter=random; total time=   0.4s\n",
      "[CV 5/10] END criterion=gini, max_depth=14, max_features=16, splitter=random; total time=   0.3s\n",
      "[CV 6/10] END criterion=gini, max_depth=14, max_features=16, splitter=random; total time=   0.4s\n",
      "[CV 7/10] END criterion=gini, max_depth=14, max_features=16, splitter=random; total time=   0.3s\n",
      "[CV 8/10] END criterion=gini, max_depth=14, max_features=16, splitter=random; total time=   0.4s\n",
      "[CV 9/10] END criterion=gini, max_depth=14, max_features=16, splitter=random; total time=   0.3s\n",
      "[CV 10/10] END criterion=gini, max_depth=14, max_features=16, splitter=random; total time=   0.3s\n",
      "[CV 1/10] END criterion=gini, max_depth=14, max_features=17, splitter=random; total time=   0.3s\n",
      "[CV 2/10] END criterion=gini, max_depth=14, max_features=17, splitter=random; total time=   0.3s\n",
      "[CV 3/10] END criterion=gini, max_depth=14, max_features=17, splitter=random; total time=   0.2s\n",
      "[CV 4/10] END criterion=gini, max_depth=14, max_features=17, splitter=random; total time=   0.3s\n",
      "[CV 5/10] END criterion=gini, max_depth=14, max_features=17, splitter=random; total time=   0.2s\n",
      "[CV 6/10] END criterion=gini, max_depth=14, max_features=17, splitter=random; total time=   0.2s\n",
      "[CV 7/10] END criterion=gini, max_depth=14, max_features=17, splitter=random; total time=   0.2s\n",
      "[CV 8/10] END criterion=gini, max_depth=14, max_features=17, splitter=random; total time=   0.3s\n",
      "[CV 9/10] END criterion=gini, max_depth=14, max_features=17, splitter=random; total time=   0.3s\n",
      "[CV 10/10] END criterion=gini, max_depth=14, max_features=17, splitter=random; total time=   0.2s\n",
      "[CV 1/10] END criterion=gini, max_depth=15, max_features=14, splitter=random; total time=   0.3s\n",
      "[CV 2/10] END criterion=gini, max_depth=15, max_features=14, splitter=random; total time=   0.2s\n",
      "[CV 3/10] END criterion=gini, max_depth=15, max_features=14, splitter=random; total time=   0.3s\n",
      "[CV 4/10] END criterion=gini, max_depth=15, max_features=14, splitter=random; total time=   0.2s\n",
      "[CV 5/10] END criterion=gini, max_depth=15, max_features=14, splitter=random; total time=   0.2s\n",
      "[CV 6/10] END criterion=gini, max_depth=15, max_features=14, splitter=random; total time=   0.2s\n",
      "[CV 7/10] END criterion=gini, max_depth=15, max_features=14, splitter=random; total time=   0.2s\n",
      "[CV 8/10] END criterion=gini, max_depth=15, max_features=14, splitter=random; total time=   0.2s\n",
      "[CV 9/10] END criterion=gini, max_depth=15, max_features=14, splitter=random; total time=   0.2s\n",
      "[CV 10/10] END criterion=gini, max_depth=15, max_features=14, splitter=random; total time=   0.2s\n",
      "[CV 1/10] END criterion=gini, max_depth=15, max_features=15, splitter=random; total time=   0.2s\n",
      "[CV 2/10] END criterion=gini, max_depth=15, max_features=15, splitter=random; total time=   0.2s\n",
      "[CV 3/10] END criterion=gini, max_depth=15, max_features=15, splitter=random; total time=   0.2s\n",
      "[CV 4/10] END criterion=gini, max_depth=15, max_features=15, splitter=random; total time=   0.2s\n",
      "[CV 5/10] END criterion=gini, max_depth=15, max_features=15, splitter=random; total time=   0.2s\n",
      "[CV 6/10] END criterion=gini, max_depth=15, max_features=15, splitter=random; total time=   0.2s\n",
      "[CV 7/10] END criterion=gini, max_depth=15, max_features=15, splitter=random; total time=   0.2s\n",
      "[CV 8/10] END criterion=gini, max_depth=15, max_features=15, splitter=random; total time=   0.2s\n",
      "[CV 9/10] END criterion=gini, max_depth=15, max_features=15, splitter=random; total time=   0.2s\n",
      "[CV 10/10] END criterion=gini, max_depth=15, max_features=15, splitter=random; total time=   0.2s\n",
      "[CV 1/10] END criterion=gini, max_depth=15, max_features=16, splitter=random; total time=   0.2s\n",
      "[CV 2/10] END criterion=gini, max_depth=15, max_features=16, splitter=random; total time=   0.2s\n",
      "[CV 3/10] END criterion=gini, max_depth=15, max_features=16, splitter=random; total time=   0.2s\n",
      "[CV 4/10] END criterion=gini, max_depth=15, max_features=16, splitter=random; total time=   0.2s\n",
      "[CV 5/10] END criterion=gini, max_depth=15, max_features=16, splitter=random; total time=   0.2s\n",
      "[CV 6/10] END criterion=gini, max_depth=15, max_features=16, splitter=random; total time=   0.2s\n",
      "[CV 7/10] END criterion=gini, max_depth=15, max_features=16, splitter=random; total time=   0.2s\n",
      "[CV 8/10] END criterion=gini, max_depth=15, max_features=16, splitter=random; total time=   0.2s\n",
      "[CV 9/10] END criterion=gini, max_depth=15, max_features=16, splitter=random; total time=   0.2s\n",
      "[CV 10/10] END criterion=gini, max_depth=15, max_features=16, splitter=random; total time=   0.2s\n",
      "[CV 1/10] END criterion=gini, max_depth=15, max_features=17, splitter=random; total time=   0.2s\n",
      "[CV 2/10] END criterion=gini, max_depth=15, max_features=17, splitter=random; total time=   0.2s\n",
      "[CV 3/10] END criterion=gini, max_depth=15, max_features=17, splitter=random; total time=   0.2s\n",
      "[CV 4/10] END criterion=gini, max_depth=15, max_features=17, splitter=random; total time=   0.3s\n",
      "[CV 5/10] END criterion=gini, max_depth=15, max_features=17, splitter=random; total time=   0.2s\n",
      "[CV 6/10] END criterion=gini, max_depth=15, max_features=17, splitter=random; total time=   0.2s\n",
      "[CV 7/10] END criterion=gini, max_depth=15, max_features=17, splitter=random; total time=   0.2s\n",
      "[CV 8/10] END criterion=gini, max_depth=15, max_features=17, splitter=random; total time=   0.2s\n",
      "[CV 9/10] END criterion=gini, max_depth=15, max_features=17, splitter=random; total time=   0.2s\n",
      "[CV 10/10] END criterion=gini, max_depth=15, max_features=17, splitter=random; total time=   0.2s\n",
      "[CV 1/10] END criterion=gini, max_depth=16, max_features=14, splitter=random; total time=   0.2s\n",
      "[CV 2/10] END criterion=gini, max_depth=16, max_features=14, splitter=random; total time=   0.2s\n",
      "[CV 3/10] END criterion=gini, max_depth=16, max_features=14, splitter=random; total time=   0.2s\n",
      "[CV 4/10] END criterion=gini, max_depth=16, max_features=14, splitter=random; total time=   0.2s\n",
      "[CV 5/10] END criterion=gini, max_depth=16, max_features=14, splitter=random; total time=   0.2s\n",
      "[CV 6/10] END criterion=gini, max_depth=16, max_features=14, splitter=random; total time=   0.2s\n",
      "[CV 7/10] END criterion=gini, max_depth=16, max_features=14, splitter=random; total time=   0.2s\n",
      "[CV 8/10] END criterion=gini, max_depth=16, max_features=14, splitter=random; total time=   0.2s\n",
      "[CV 9/10] END criterion=gini, max_depth=16, max_features=14, splitter=random; total time=   0.3s\n",
      "[CV 10/10] END criterion=gini, max_depth=16, max_features=14, splitter=random; total time=   0.3s\n",
      "[CV 1/10] END criterion=gini, max_depth=16, max_features=15, splitter=random; total time=   0.2s\n",
      "[CV 2/10] END criterion=gini, max_depth=16, max_features=15, splitter=random; total time=   0.2s\n",
      "[CV 3/10] END criterion=gini, max_depth=16, max_features=15, splitter=random; total time=   0.2s\n",
      "[CV 4/10] END criterion=gini, max_depth=16, max_features=15, splitter=random; total time=   0.2s\n",
      "[CV 5/10] END criterion=gini, max_depth=16, max_features=15, splitter=random; total time=   0.2s\n",
      "[CV 6/10] END criterion=gini, max_depth=16, max_features=15, splitter=random; total time=   0.2s\n",
      "[CV 7/10] END criterion=gini, max_depth=16, max_features=15, splitter=random; total time=   0.2s\n",
      "[CV 8/10] END criterion=gini, max_depth=16, max_features=15, splitter=random; total time=   0.2s\n",
      "[CV 9/10] END criterion=gini, max_depth=16, max_features=15, splitter=random; total time=   0.2s\n",
      "[CV 10/10] END criterion=gini, max_depth=16, max_features=15, splitter=random; total time=   0.2s\n",
      "[CV 1/10] END criterion=gini, max_depth=16, max_features=16, splitter=random; total time=   0.2s\n",
      "[CV 2/10] END criterion=gini, max_depth=16, max_features=16, splitter=random; total time=   0.2s\n",
      "[CV 3/10] END criterion=gini, max_depth=16, max_features=16, splitter=random; total time=   0.2s\n",
      "[CV 4/10] END criterion=gini, max_depth=16, max_features=16, splitter=random; total time=   0.2s\n",
      "[CV 5/10] END criterion=gini, max_depth=16, max_features=16, splitter=random; total time=   0.2s\n",
      "[CV 6/10] END criterion=gini, max_depth=16, max_features=16, splitter=random; total time=   0.3s\n",
      "[CV 7/10] END criterion=gini, max_depth=16, max_features=16, splitter=random; total time=   0.3s\n",
      "[CV 8/10] END criterion=gini, max_depth=16, max_features=16, splitter=random; total time=   0.2s\n",
      "[CV 9/10] END criterion=gini, max_depth=16, max_features=16, splitter=random; total time=   0.2s\n",
      "[CV 10/10] END criterion=gini, max_depth=16, max_features=16, splitter=random; total time=   0.2s\n",
      "[CV 1/10] END criterion=gini, max_depth=16, max_features=17, splitter=random; total time=   0.2s\n",
      "[CV 2/10] END criterion=gini, max_depth=16, max_features=17, splitter=random; total time=   0.3s\n",
      "[CV 3/10] END criterion=gini, max_depth=16, max_features=17, splitter=random; total time=   0.2s\n",
      "[CV 4/10] END criterion=gini, max_depth=16, max_features=17, splitter=random; total time=   0.3s\n",
      "[CV 5/10] END criterion=gini, max_depth=16, max_features=17, splitter=random; total time=   0.2s\n",
      "[CV 6/10] END criterion=gini, max_depth=16, max_features=17, splitter=random; total time=   0.2s\n",
      "[CV 7/10] END criterion=gini, max_depth=16, max_features=17, splitter=random; total time=   0.2s\n",
      "[CV 8/10] END criterion=gini, max_depth=16, max_features=17, splitter=random; total time=   0.2s\n",
      "[CV 9/10] END criterion=gini, max_depth=16, max_features=17, splitter=random; total time=   0.2s\n",
      "[CV 10/10] END criterion=gini, max_depth=16, max_features=17, splitter=random; total time=   0.2s\n",
      "[CV 1/10] END criterion=gini, max_depth=17, max_features=14, splitter=random; total time=   0.2s\n",
      "[CV 2/10] END criterion=gini, max_depth=17, max_features=14, splitter=random; total time=   0.2s\n",
      "[CV 3/10] END criterion=gini, max_depth=17, max_features=14, splitter=random; total time=   0.2s\n",
      "[CV 4/10] END criterion=gini, max_depth=17, max_features=14, splitter=random; total time=   0.2s\n",
      "[CV 5/10] END criterion=gini, max_depth=17, max_features=14, splitter=random; total time=   0.2s\n",
      "[CV 6/10] END criterion=gini, max_depth=17, max_features=14, splitter=random; total time=   0.2s\n",
      "[CV 7/10] END criterion=gini, max_depth=17, max_features=14, splitter=random; total time=   0.4s\n",
      "[CV 8/10] END criterion=gini, max_depth=17, max_features=14, splitter=random; total time=   0.7s\n",
      "[CV 9/10] END criterion=gini, max_depth=17, max_features=14, splitter=random; total time=   0.4s\n",
      "[CV 10/10] END criterion=gini, max_depth=17, max_features=14, splitter=random; total time=   0.6s\n",
      "[CV 1/10] END criterion=gini, max_depth=17, max_features=15, splitter=random; total time=   0.5s\n",
      "[CV 2/10] END criterion=gini, max_depth=17, max_features=15, splitter=random; total time=   0.4s\n",
      "[CV 3/10] END criterion=gini, max_depth=17, max_features=15, splitter=random; total time=   0.4s\n",
      "[CV 4/10] END criterion=gini, max_depth=17, max_features=15, splitter=random; total time=   0.5s\n",
      "[CV 5/10] END criterion=gini, max_depth=17, max_features=15, splitter=random; total time=   0.4s\n",
      "[CV 6/10] END criterion=gini, max_depth=17, max_features=15, splitter=random; total time=   0.5s\n",
      "[CV 7/10] END criterion=gini, max_depth=17, max_features=15, splitter=random; total time=   0.4s\n",
      "[CV 8/10] END criterion=gini, max_depth=17, max_features=15, splitter=random; total time=   0.6s\n",
      "[CV 9/10] END criterion=gini, max_depth=17, max_features=15, splitter=random; total time=   0.5s\n",
      "[CV 10/10] END criterion=gini, max_depth=17, max_features=15, splitter=random; total time=   0.4s\n",
      "[CV 1/10] END criterion=gini, max_depth=17, max_features=16, splitter=random; total time=   0.5s\n",
      "[CV 2/10] END criterion=gini, max_depth=17, max_features=16, splitter=random; total time=   0.4s\n",
      "[CV 3/10] END criterion=gini, max_depth=17, max_features=16, splitter=random; total time=   0.6s\n",
      "[CV 4/10] END criterion=gini, max_depth=17, max_features=16, splitter=random; total time=   0.5s\n",
      "[CV 5/10] END criterion=gini, max_depth=17, max_features=16, splitter=random; total time=   0.5s\n",
      "[CV 6/10] END criterion=gini, max_depth=17, max_features=16, splitter=random; total time=   0.4s\n",
      "[CV 7/10] END criterion=gini, max_depth=17, max_features=16, splitter=random; total time=   0.5s\n",
      "[CV 8/10] END criterion=gini, max_depth=17, max_features=16, splitter=random; total time=   0.5s\n",
      "[CV 9/10] END criterion=gini, max_depth=17, max_features=16, splitter=random; total time=   0.6s\n",
      "[CV 10/10] END criterion=gini, max_depth=17, max_features=16, splitter=random; total time=   0.5s\n",
      "[CV 1/10] END criterion=gini, max_depth=17, max_features=17, splitter=random; total time=   0.5s\n",
      "[CV 2/10] END criterion=gini, max_depth=17, max_features=17, splitter=random; total time=   0.5s\n",
      "[CV 3/10] END criterion=gini, max_depth=17, max_features=17, splitter=random; total time=   0.6s\n",
      "[CV 4/10] END criterion=gini, max_depth=17, max_features=17, splitter=random; total time=   0.8s\n",
      "[CV 5/10] END criterion=gini, max_depth=17, max_features=17, splitter=random; total time=   0.9s\n",
      "[CV 6/10] END criterion=gini, max_depth=17, max_features=17, splitter=random; total time=   1.0s\n",
      "[CV 7/10] END criterion=gini, max_depth=17, max_features=17, splitter=random; total time=   1.1s\n",
      "[CV 8/10] END criterion=gini, max_depth=17, max_features=17, splitter=random; total time=   1.2s\n",
      "[CV 9/10] END criterion=gini, max_depth=17, max_features=17, splitter=random; total time=   0.7s\n",
      "[CV 10/10] END criterion=gini, max_depth=17, max_features=17, splitter=random; total time=   0.6s\n",
      "Best score: 0.9596799999999999\n",
      "Best parameters: {'criterion': 'gini', 'max_depth': 14, 'max_features': 17, 'splitter': 'random'}\n",
      "Best estimator: DecisionTreeClassifier(max_depth=14, max_features=17, splitter='random')\n"
     ]
    }
   ],
   "source": [
    "parameter_grid = {'criterion': ['gini'], #gini, entropy\n",
    "                  'splitter': ['random'], #best, random\n",
    "                  'max_depth': [13, 14, 15, 16, 17],\n",
    "                  'max_features': [14, 15, 16, 17]}\n",
    "\n",
    "grid_search = GridSearchCV(DecisionTreeClassifier(),\n",
    "                        param_grid=parameter_grid,\n",
    "                        cv=10,\n",
    "                        verbose=3)\n",
    "\n",
    "grid_search.fit(all_inputs, all_labels)\n",
    "print('Best score: {}'.format(grid_search.best_score_))\n",
    "print('Best parameters: {}'.format(grid_search.best_params_))\n",
    "print('Best estimator: {}'.format(grid_search.best_estimator_))"
   ]
  },
  {
   "cell_type": "code",
   "execution_count": 18,
   "metadata": {},
   "outputs": [
    {
     "output_type": "stream",
     "name": "stdout",
     "text": [
      "              precision    recall  f1-score   support\n\n     ALLERGY       1.00      0.97      0.98      6250\n        COLD       0.92      1.00      0.96      6250\n       COVID       0.93      0.97      0.95      6250\n         FLU       1.00      0.91      0.95      6250\n\n    accuracy                           0.96     25000\n   macro avg       0.96      0.96      0.96     25000\nweighted avg       0.96      0.96      0.96     25000\n\n"
     ]
    }
   ],
   "source": [
    "# For undersmapled: gini, 11, 15, random\n",
    "# improved_clf = DecisionTreeClassifier(criterion='gini', max_depth=11, max_features=15, splitter='random')\n",
    "# For oversmapled: gini, 14, 13, random\n",
    "improved_clf = DecisionTreeClassifier(criterion='gini', max_depth=14, max_features=17, splitter='random')\n",
    "\n",
    "# Train the classifier on the training set\n",
    "improved_clf.fit(training_inputs, training_classes)\n",
    "new_predictions = improved_clf.predict(testing_inputs)\n",
    "print(classification_report(testing_classes, new_predictions))"
   ]
  }
 ]
}